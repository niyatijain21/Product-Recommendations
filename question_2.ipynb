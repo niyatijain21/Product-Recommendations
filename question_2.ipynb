{
 "cells": [
  {
   "cell_type": "code",
   "execution_count": 10,
   "metadata": {},
   "outputs": [],
   "source": [
    "import re\n",
    "import sys\n",
    "import itertools as it\n",
    "from pyspark import SparkConf, SparkContext\n",
    "conf = SparkConf()\n",
    "sc = SparkContext.getOrCreate(conf=conf)"
   ]
  },
  {
   "cell_type": "code",
   "execution_count": 11,
   "metadata": {},
   "outputs": [],
   "source": [
    "with open('browsing.txt', 'r') as browsing:\n",
    "\tlines = browsing.readlines()\n",
    "\n",
    "with open('browsingupdated.txt', 'w') as bbrowsing:\n",
    "\tfor (num, line) in enumerate(lines):\n",
    "\t\tbbrowsing.write('%d:%s' % (num, line))\n",
    "\n",
    "lines = sc.textFile('browsingupdated.txt')\n",
    "items = lines.map(lambda l: l.split(':'))\n",
    "finalitems = items.map(lambda p: (int(p[0]), sorted(p[1].split())))"
   ]
  },
  {
   "cell_type": "code",
   "execution_count": 12,
   "metadata": {},
   "outputs": [],
   "source": [
    "s = 100"
   ]
  },
  {
   "cell_type": "code",
   "execution_count": 13,
   "metadata": {},
   "outputs": [],
   "source": [
    "def singleitems(basket):\n",
    "\tbasketId = basket[0]\n",
    "\titemList = basket[1]\n",
    "\treturn [(item, 1) for item in itemList]"
   ]
  },
  {
   "cell_type": "code",
   "execution_count": 14,
   "metadata": {},
   "outputs": [],
   "source": [
    "singles = finalitems.map(singleitems).flatMap(lambda x: x)\n",
    "itemCounts = singles.reduceByKey(lambda c1, c2: c1 + c2)\n",
    "frequentitems = itemCounts.filter(lambda x: x[1] >= s)\n",
    "freq1 = frequentitems.collectAsMap()"
   ]
  },
  {
   "cell_type": "code",
   "execution_count": 15,
   "metadata": {},
   "outputs": [],
   "source": [
    "def frequentSingles(basket):\n",
    "\tbasketId = basket[0]\n",
    "\titemList = basket[1]\n",
    "\tfreqList = []\n",
    "\tfor item in itemList:\n",
    "\t\tif item in freq1:\n",
    "\t\t\tfreqList.append(item)\n",
    "\treturn (basketId, sorted(freqList))"
   ]
  },
  {
   "cell_type": "code",
   "execution_count": 16,
   "metadata": {},
   "outputs": [],
   "source": [
    "freqSingles = finalitems.map(frequentSingles)"
   ]
  },
  {
   "cell_type": "code",
   "execution_count": 17,
   "metadata": {},
   "outputs": [],
   "source": [
    "def itempairs(basket):\n",
    "\tbasketId = basket[0]\n",
    "\titemList = basket[1]\n",
    "\treturn [(pairs, 1) for pairs in it.combinations(itemList, 2)]"
   ]
  },
  {
   "cell_type": "code",
   "execution_count": 18,
   "metadata": {},
   "outputs": [
    {
     "name": "stderr",
     "output_type": "stream",
     "text": [
      "                                                                                \r"
     ]
    }
   ],
   "source": [
    "doubles = freqSingles.map(itempairs).flatMap(lambda x: x)\n",
    "doubleCounts = doubles.reduceByKey(lambda c1, c2: c1 + c2)\n",
    "frequentpairs = doubleCounts.filter(lambda x: x[1] >= s)\n",
    "freq2 = frequentpairs.collectAsMap()"
   ]
  },
  {
   "cell_type": "code",
   "execution_count": 19,
   "metadata": {},
   "outputs": [],
   "source": [
    "def frequentDoubles(basket_freqSingles):\n",
    "\tbasketId = basket_freqSingles[0]\n",
    "\tfrequent = basket_freqSingles[1]\n",
    "\tpairList = []\n",
    "\tCandList = [pairs for pairs in it.combinations(frequent, 2)]\n",
    "\tfor pair in CandList:\n",
    "\t\tif pair in freq2:\n",
    "\t\t\tpairList.append(pair)\n",
    "\treturn (basketId, sorted(pairList))"
   ]
  },
  {
   "cell_type": "code",
   "execution_count": 20,
   "metadata": {},
   "outputs": [],
   "source": [
    "freqDoubles = freqSingles.map(frequentDoubles)"
   ]
  },
  {
   "cell_type": "code",
   "execution_count": 21,
   "metadata": {},
   "outputs": [],
   "source": [
    "def itemtriplets(freqPairs):\n",
    "\tbasketId   = freqPairs[0]\n",
    "\tfreqpairs = freqPairs[1]\n",
    "\tfreqitems = []\n",
    "\tfor p in freqpairs:\n",
    "\t\ti1, i2 = p\n",
    "\t\tif i1 not in freqitems:\n",
    "\t\t\tfreqitems.append(i1)\n",
    "\t\tif i2 not in freqitems:\n",
    "\t\t\tfreqitems.append(i2)\n",
    "\treturn [(triples, 1) for triples in it.combinations(sorted(freqitems), 3)]"
   ]
  },
  {
   "cell_type": "code",
   "execution_count": 22,
   "metadata": {},
   "outputs": [
    {
     "name": "stderr",
     "output_type": "stream",
     "text": [
      "                                                                                \r"
     ]
    }
   ],
   "source": [
    "triples = freqDoubles.map(itemtriplets).flatMap(lambda x: x)\n",
    "tripleCounts = triples.reduceByKey(lambda c1, c2: c1 + c2)\n",
    "frequenttriplets = tripleCounts.filter(lambda x: x[1] >= s)\n",
    "freq3 = frequenttriplets.collectAsMap()"
   ]
  },
  {
   "cell_type": "code",
   "execution_count": 23,
   "metadata": {},
   "outputs": [],
   "source": [
    "def pairssortbyConf(pairs, items):\n",
    "\truleList = []\n",
    "\tfor pair in pairs:\n",
    "\t\tx = pair[0]\n",
    "\t\ty = pair[1]\n",
    "\t\tX_support = items[x]\n",
    "\t\tY_support = items[y]\n",
    "\t\tXYsupport = pairs[pair]\n",
    "\t\tConf_XtoY = (1.0 * XYsupport)/X_support\n",
    "\t\tConf_YtoX = (1.0 * XYsupport)/Y_support\n",
    "\t\truleList.append((Conf_XtoY, (x, y)))\n",
    "\t\truleList.append((Conf_YtoX, (y, x)))\n",
    "\treturn sorted(ruleList, key = lambda x: (-x[0], x[1]))"
   ]
  },
  {
   "cell_type": "code",
   "execution_count": 24,
   "metadata": {},
   "outputs": [],
   "source": [
    "def tripletssortByConf(triples, pairs):\n",
    "\truleList = []\n",
    "\tfor triple in triples:\n",
    "\t\tx = triple[0]\n",
    "\t\ty = triple[1]\n",
    "\t\tz = triple[2]\n",
    "\t\tXY_support = pairs[(x, y)]\n",
    "\t\tXZ_support = pairs[(x, z)]\n",
    "\t\tYZ_support = pairs[(y, z)]\n",
    "\t\tXYZsupport = triples[triple]\n",
    "\t\tConf_XYtoZ = (1.0 * XYZsupport)/XY_support\n",
    "\t\tConf_XZtoY = (1.0 * XYZsupport)/XZ_support\n",
    "\t\tConf_YZtoX = (1.0 * XYZsupport)/YZ_support\n",
    "\t\truleList.append((Conf_XYtoZ, ((x, y), z)))\n",
    "\t\truleList.append((Conf_XZtoY, ((x, z), y)))\n",
    "\t\truleList.append((Conf_YZtoX, ((y, z), x)))\n",
    "\treturn sorted(ruleList, key = lambda x: (-x[0], x[1]))"
   ]
  },
  {
   "cell_type": "code",
   "execution_count": 25,
   "metadata": {},
   "outputs": [
    {
     "name": "stdout",
     "output_type": "stream",
     "text": [
      "DAI93865 => FRO40251 : 1.00000000\n",
      "GRO85051 => FRO40251 : 0.99917628\n",
      "GRO38636 => FRO40251 : 0.99065421\n",
      "ELE12951 => FRO40251 : 0.99056604\n",
      "DAI88079 => FRO40251 : 0.98672566\n",
      "\n",
      "\n",
      "(DAI23334, ELE92920) => DAI62779 : 1.00000000\n",
      "(DAI31081, GRO85051) => FRO40251 : 1.00000000\n",
      "(DAI55911, GRO85051) => FRO40251 : 1.00000000\n",
      "(DAI62779, DAI88079) => FRO40251 : 1.00000000\n",
      "(DAI75645, GRO85051) => FRO40251 : 1.00000000\n"
     ]
    }
   ],
   "source": [
    "one2oneRules = pairssortbyConf(freq2, freq1)\n",
    "for i in range(5):\n",
    "\tprint(\"%s => %s : %.8f\" % (one2oneRules[i][1][0], one2oneRules[i][1][1], one2oneRules[i][0]))\n",
    "\n",
    "print(\"\\n\")\n",
    "\n",
    "two2oneRules = tripletssortByConf(freq3, freq2)\n",
    "for i in range(5):\n",
    "\tprint(\"(%s, %s) => %s : %.8f\" % (two2oneRules[i][1][0][0], two2oneRules[i][1][0][1], two2oneRules[i][1][1], two2oneRules[i][0]))"
   ]
  },
  {
   "cell_type": "code",
   "execution_count": 26,
   "metadata": {},
   "outputs": [],
   "source": [
    "sc.stop()"
   ]
  }
 ],
 "metadata": {
  "kernelspec": {
   "display_name": "Python 3.9.13 ('base')",
   "language": "python",
   "name": "python3"
  },
  "language_info": {
   "codemirror_mode": {
    "name": "ipython",
    "version": 3
   },
   "file_extension": ".py",
   "mimetype": "text/x-python",
   "name": "python",
   "nbconvert_exporter": "python",
   "pygments_lexer": "ipython3",
   "version": "3.9.13"
  },
  "orig_nbformat": 4,
  "vscode": {
   "interpreter": {
    "hash": "db17cbfc0f0d5752ce8c7f165e0cef4e8bd3dfd2a202437f2c0ce176edf396f9"
   }
  }
 },
 "nbformat": 4,
 "nbformat_minor": 2
}
